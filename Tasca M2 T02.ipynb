{
 "cells": [
  {
   "cell_type": "markdown",
   "id": "7653220c",
   "metadata": {},
   "source": [
    "## - Exercici 1\n",
    "L'exercici consisteix a crear un programa que et classifiqui una variable numèrica en funció de l’escala Suspès/Aprovat/Notable/Excel·lent.\n",
    "\n",
    "Recorda que Suspès < 5, Aprovat > 5 i < 7, Notable > 7 i < 9 i Excel·lent > 9.\n",
    "\n"
   ]
  },
  {
   "cell_type": "code",
   "execution_count": 5,
   "id": "9c02cf35",
   "metadata": {},
   "outputs": [
    {
     "name": "stdout",
     "output_type": "stream",
     "text": [
      "9 Notable\n"
     ]
    }
   ],
   "source": [
    "import random\n",
    "x= random.randint(0, 10)\n",
    "  \n",
    "a = 5\n",
    "b = 7\n",
    "c = 9\n",
    "\n",
    "if x <= a :\n",
    "    print(x, 'Suspès')\n",
    "elif x > a and x < b :\n",
    "    print(x,'Aprovat')\n",
    "elif x > b and x <= c :\n",
    "    print (x,'Notable')\n",
    "else:\n",
    "    print(x, 'Excel.lent')"
   ]
  },
  {
   "cell_type": "markdown",
   "id": "0e3736ef",
   "metadata": {},
   "source": [
    "## - Exercici 2\n",
    "Utilitzant el següent tutorial crea un programa que et pregunti dos números. T’ha de mostrar un missatge dient si el primer és més gran, el segon és més gran o són iguals."
   ]
  },
  {
   "cell_type": "code",
   "execution_count": 12,
   "id": "768a6661",
   "metadata": {},
   "outputs": [
    {
     "name": "stdout",
     "output_type": "stream",
     "text": [
      "Edad del participante 1: 5\n",
      "Edad del participante 2: 5\n",
      "Ambos participantes tiene la misma edad.\n"
     ]
    }
   ],
   "source": [
    "#Suponiendo que el usuario debe introducir las edades de dos participantes de un consurso infantil. \n",
    "A = int (input(\"Edad del participante 1: \") )\n",
    "B = int (input(\"Edad del participante 2: \") )\n",
    "\n",
    "if A > B :\n",
    "    print ('El participante 1 es mayor que el participante 2.')\n",
    "elif A < B :\n",
    "    print ('El participante 2 es mayor que el participante 1.')\n",
    "else:\n",
    "    print ('Ambos participantes tiene la misma edad.')"
   ]
  },
  {
   "cell_type": "markdown",
   "id": "6c0cc277",
   "metadata": {},
   "source": [
    "## - Exercici 3\n",
    "Crea un programa que et pregunti el teu nom, i et demani un número. Si el número és 0, hauria de mostrar un missatge d’error. En cas contrari, hauria de mostrar el nom repetit tants cops com indiqui el número. Per exemple, “Joan Joan Joan”."
   ]
  },
  {
   "cell_type": "code",
   "execution_count": 19,
   "id": "144193ce",
   "metadata": {},
   "outputs": [
    {
     "name": "stdout",
     "output_type": "stream",
     "text": [
      "Nombre: Natalia\n",
      "Número: 4\n",
      "Natalia\n",
      "Natalia\n",
      "Natalia\n",
      "Natalia\n"
     ]
    }
   ],
   "source": [
    "Nombre = (input ('Nombre: '))\n",
    "Número = int (input ('Número: '))\n",
    "\n",
    "if Número == 0:print(\"Error\")\n",
    "    \n",
    "else:\n",
    "        for i in range(Número):\n",
    "           repetir = print(Nombre)\n",
    "\n"
   ]
  },
  {
   "cell_type": "code",
   "execution_count": 20,
   "id": "8cbb9aed",
   "metadata": {},
   "outputs": [
    {
     "name": "stdout",
     "output_type": "stream",
     "text": [
      "Nombre: Natalia\n",
      "Número: 0\n",
      "Error\n"
     ]
    }
   ],
   "source": [
    "Nombre = (input ('Nombre: '))\n",
    "Número = int (input ('Número: '))\n",
    "\n",
    "if Número == 0:print(\"Error\")\n",
    "    \n",
    "else:\n",
    "        for i in range(Número):\n",
    "           repetir = print(Nombre)"
   ]
  },
  {
   "cell_type": "markdown",
   "id": "4aab9c0d",
   "metadata": {},
   "source": [
    "## - Exercici 4\n",
    "Crea un programa que donada una llista qualsevol, et digui si és simètrica o no. Si ho és, que et digui quants elements té."
   ]
  },
  {
   "cell_type": "code",
   "execution_count": 75,
   "id": "8d7420e3",
   "metadata": {},
   "outputs": [
    {
     "name": "stdout",
     "output_type": "stream",
     "text": [
      "Lista: [1, 2, 2, 5]\n",
      "Lista inversa: [5, 2, 2, 1]\n",
      "elements: 4\n",
      "No es simètrica\n"
     ]
    }
   ],
   "source": [
    "def listaSimetrica(lista):\n",
    "    if len(lista) < 2:\n",
    "        return \"Es simètrica\"\n",
    "    else:\n",
    "        listaReversa = lista[:]\n",
    "        listaReversa.reverse()\n",
    "        print('Lista:', lista)\n",
    "        print('Lista inversa:', listaReversa)\n",
    "        for indice, valor in enumerate(lista):\n",
    "            if (lista[indice] != listaReversa[indice]):\n",
    "                print(\"elements: \" + str(len(lista)))\n",
    "                return \"No es simètrica\"\n",
    "        return \"Es simètrica\"\n",
    "    \n",
    "listaTest = [1,2,2,5]\n",
    "print(listaSimetrica(listaTest))\n"
   ]
  },
  {
   "cell_type": "markdown",
   "id": "0b8e4a40",
   "metadata": {},
   "source": [
    "## - Exercici 5\n",
    "Crea un programa que donada una llista, et digui quants números coincideixen amb la seva posició. Per exemple [3,4,2,0,2,3,6] el 2 i el 6 coincideixen."
   ]
  },
  {
   "cell_type": "code",
   "execution_count": 16,
   "id": "3e6d2d4a",
   "metadata": {},
   "outputs": [
    {
     "name": "stdout",
     "output_type": "stream",
     "text": [
      "El número  0 coincide con su posición.\n",
      "El número  2 coincide con su posición.\n",
      "El número  4 coincide con su posición.\n",
      "El número  6 coincide con su posición.\n",
      "El número  8 coincide con su posición.\n",
      "El número  10 coincide con su posición.\n",
      "6  coincidencias en total.\n"
     ]
    }
   ],
   "source": [
    "lista= [0,4,2,0,4,3,6,1,8,7,10]\n",
    "\n",
    "coincidencias = 0\n",
    "for indice, valor in enumerate(lista):\n",
    "    if indice == valor:\n",
    "        coincidencias += 1\n",
    "        print ('El número ', valor,'coincide con su posición.')\n",
    "print( coincidencias, ' coincidencias en total.')\n",
    "            "
   ]
  }
 ],
 "metadata": {
  "kernelspec": {
   "display_name": "Python 3 (ipykernel)",
   "language": "python",
   "name": "python3"
  },
  "language_info": {
   "codemirror_mode": {
    "name": "ipython",
    "version": 3
   },
   "file_extension": ".py",
   "mimetype": "text/x-python",
   "name": "python",
   "nbconvert_exporter": "python",
   "pygments_lexer": "ipython3",
   "version": "3.9.12"
  }
 },
 "nbformat": 4,
 "nbformat_minor": 5
}
